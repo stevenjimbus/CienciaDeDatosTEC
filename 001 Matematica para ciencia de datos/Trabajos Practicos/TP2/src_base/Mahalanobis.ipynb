{
 "cells": [
  {
   "cell_type": "code",
   "execution_count": 2,
   "metadata": {},
   "outputs": [],
   "source": [
    "from __future__ import print_function\n",
    "import argparse\n",
    "import torch\n",
    "import torch.nn as nn\n",
    "import torch.nn.functional as F\n",
    "import torch.optim as optim\n",
    "import numpy as np;\n",
    "import pandas as pandas;\n",
    "from scipy import ndimage\n",
    "from torchvision import datasets, transforms\n",
    "from torch.distributions import normal\n",
    "from torch.distributions import multivariate_normal\n",
    "import matplotlib.pyplot as plt"
   ]
  },
  {
   "cell_type": "markdown",
   "metadata": {},
   "source": [
    "# Mahalanobis solution\n",
    "## Data creation"
   ]
  },
  {
   "cell_type": "code",
   "execution_count": 7,
   "metadata": {},
   "outputs": [
    {
     "data": {
      "image/png": "[encoded data removed]",
      "text/plain": [
       "<Figure size 432x288 with 1 Axes>"
      ]
     },
     "metadata": {},
     "output_type": "display_data"
    }
   ],
   "source": [
    "'''\n",
    "Creates data with gaussian distribution\n",
    "'''\n",
    "def create_data_one_mode(mean, covarianceMatrix, numberSamples):\n",
    "    # Inits the bi gaussian data generator\n",
    "    multiGaussGenerator = multivariate_normal.MultivariateNormal(mean, covarianceMatrix)\n",
    "    # Takes the samples\n",
    "    samples = multiGaussGenerator.sample(torch.Size([numberSamples]))\n",
    "    samples = samples.type(torch.FloatTensor)\n",
    "    return samples\n",
    "\n",
    "\n",
    "covarianceMatrix = torch.tensor([[2, -0.5], [-0.5, 0.5]])\n",
    "mean = torch.tensor([2.0, 2.0])\n",
    "X = create_data_one_mode(mean = mean, covarianceMatrix = covarianceMatrix, numberSamples = 100)\n",
    "plt.scatter(X[:, 0], X[:, 1])\n",
    "\n",
    "#data example\n",
    "mu = mean\n",
    "y1 = torch.tensor([1.05, 3.4])\n",
    "y2 = torch.tensor([2.65, 3.57])\n",
    "plt.scatter(y1[0], y1[1],c = 'red')\n",
    "plt.scatter(y2[0], y2[1],c = 'green')\n",
    "plt.scatter(mean[0], mean[1], c = 'yellow')\n",
    "plt.show()\n"
   ]
  },
  {
   "cell_type": "code",
   "execution_count": null,
   "metadata": {},
   "outputs": [],
   "source": []
  },
  {
   "cell_type": "code",
   "execution_count": null,
   "metadata": {},
   "outputs": [],
   "source": []
  }
 ],
 "metadata": {
  "kernelspec": {
   "display_name": "Python 3",
   "language": "python",
   "name": "python3"
  },
  "language_info": {
   "codemirror_mode": {
    "name": "ipython",
    "version": 3
   },
   "file_extension": ".py",
   "mimetype": "text/x-python",
   "name": "python",
   "nbconvert_exporter": "python",
   "pygments_lexer": "ipython3",
   "version": "3.6.5"
  }
 },
 "nbformat": 4,
 "nbformat_minor": 4
}
