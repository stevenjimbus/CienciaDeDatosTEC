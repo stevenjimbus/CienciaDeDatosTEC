{
  "nbformat": 4,
  "nbformat_minor": 0,
  "metadata": {
    "colab": {
      "name": "Tarea1.ipynb",
      "provenance": [],
      "collapsed_sections": []
    },
    "kernelspec": {
      "name": "python3",
      "display_name": "Python 3"
    },
    "language_info": {
      "name": "python"
    }
  },
  "cells": [
    {
      "cell_type": "markdown",
      "metadata": {
        "id": "OrWRveZR37L_"
      },
      "source": [
        "#2.1\n",
        "Muestre con un ejemplo numérico que para un vector$ \\overrightarrow{x}\\in\\mathbb{R}^{n}$ y una matriz simétrica $ A\\in\\mathbb{R}^{n\\times n}$ que:  \n",
        "\n",
        "$\\left(\\vec{x}^{T}\\,A\\,\\vec{x}\\right)^{T}=\\vec{x}^{T}\\,A\\,\\vec{x}$\n",
        "\n",
        "(a) Incluya el código en Pytorch que permita corroborar tal igualdad para cualquier matriz simétrica A y vector $\\overrightarrow{x}\\in\\mathbb{R}^{n}$, generado aleatoriamente. Recuerde que a partir de cualquier matriz cuadrada A generada aleatoriamente puede calcularse una matriz simétrica, según lo discutido en clase. \n",
        "\n",
        "\n",
        "**Definiciones en la solución del problema:**\n",
        "\n",
        "left = $\\left(\\vec{x}^{T}\\,A\\,\\vec{x}\\right)^{T}$\n",
        "\n",
        "right = $\\vec{x}^{T}\\,A\\,\\vec{x}$"
      ]
    },
    {
      "cell_type": "code",
      "metadata": {
        "colab": {
          "base_uri": "https://localhost:8080/"
        },
        "id": "jC-iRVqu4RD8",
        "outputId": "16586adf-43e9-47c7-93ef-584980cd593a"
      },
      "source": [
        "import torch\n",
        "def verifySystem(A, v):\n",
        "\tv_Row = v.reshape(-1, v.shape[0])\n",
        "\tv_Column = torch.transpose(v.reshape(-1, v.shape[0]), 0, 1)   \n",
        "\tprint (\"Vector colum v: \")   \n",
        "\tprint (v_Column.data.cpu().numpy())\n",
        "\tprint (\"*********************************************\")   \n",
        "\tprint (\"Vector row v (tranpose): \")\n",
        "\tprint (v_Row.data.cpu().numpy())\n",
        "\tprint (\"*********************************************\")\n",
        "\tleft = torch.transpose(torch.matmul(torch.matmul(v_Row, A), v_Column), 0, 1)  \n",
        "\tright = torch.matmul(torch.matmul(v_Row, A), v_Column)\n",
        "\tprint (\"Left side result: \")   \n",
        "\tprint (left.item())   \n",
        "\tprint (\"*********************************************\")   \n",
        "\tprint (\"Right side result: \")   \n",
        "\tprint (right.item())\n",
        "\treturn left.item() == right.item()\n",
        "\n",
        "randomSize = torch.randint(1, 50, (1, 1)).item()\n",
        "A = torch.rand(randomSize, randomSize)\n",
        "A_Symmetric = torch.mm(A, torch.transpose(A, 0, 1))\n",
        "v = torch.randn(randomSize)\n",
        "print(\"Value of n (size):\")\n",
        "print(randomSize) \n",
        "print (\"*********************************************\") \n",
        "print(\"Matrix A_Symmetric:\")\n",
        "print(A_Symmetric) \n",
        "print (\"*********************************************\") \n",
        "print(\"Is statement valid?\", verifySystem(A_Symmetric, v))"
      ],
      "execution_count": 3,
      "outputs": [
        {
          "output_type": "stream",
          "text": [
            "Value of n (size):\n",
            "8\n",
            "*********************************************\n",
            "Matrix A_Symmetric:\n",
            "tensor([[3.3382, 2.5523, 1.9416, 2.2807, 2.5387, 2.4002, 1.2250, 2.5933],\n",
            "        [2.5523, 2.4076, 1.7022, 1.7745, 1.9048, 2.0567, 0.9477, 2.1911],\n",
            "        [1.9416, 1.7022, 1.8920, 1.6125, 1.7521, 1.4970, 0.9528, 2.0521],\n",
            "        [2.2807, 1.7745, 1.6125, 2.7188, 1.8917, 1.8802, 1.1433, 2.7285],\n",
            "        [2.5387, 1.9048, 1.7521, 1.8917, 2.3365, 1.7466, 0.8025, 2.1810],\n",
            "        [2.4002, 2.0567, 1.4970, 1.8802, 1.7466, 2.6502, 1.1940, 2.4106],\n",
            "        [1.2250, 0.9477, 0.9528, 1.1433, 0.8025, 1.1940, 0.8778, 1.3703],\n",
            "        [2.5933, 2.1911, 2.0521, 2.7285, 2.1810, 2.4106, 1.3703, 3.2345]])\n",
            "*********************************************\n",
            "Vector colum v: \n",
            "[[ 0.12216275]\n",
            " [-0.40325508]\n",
            " [ 0.7997079 ]\n",
            " [-0.86540335]\n",
            " [ 0.8174724 ]\n",
            " [ 0.19831811]\n",
            " [ 1.705335  ]\n",
            " [ 0.37859246]]\n",
            "*********************************************\n",
            "Vector row v (tranpose): \n",
            "[[ 0.12216275 -0.40325508  0.7997079  -0.86540335  0.8174724   0.19831811\n",
            "   1.705335    0.37859246]]\n",
            "*********************************************\n",
            "Left side result: \n",
            "8.95608139038086\n",
            "*********************************************\n",
            "Right side result: \n",
            "8.95608139038086\n",
            "Is statement valid? True\n"
          ],
          "name": "stdout"
        }
      ]
    },
    {
      "cell_type": "markdown",
      "metadata": {
        "id": "2uYHfpOR7i0h"
      },
      "source": [
        "$U=\\left\\{ \\vec{u}_{1},\\vec{u}_{2},\\vec{u}_{3},\\vec{u}_{4}\\right\\} =\\begin{bmatrix}| & | & | & |\\\\\n",
        "\\vec{u}_{1} & \\vec{u}_{2} & \\vec{u}_{3} & \\vec{u}_{4}\\\\\n",
        "| & | & | & |\n",
        "\\end{bmatrix}=\\begin{bmatrix}2 & 4 & 6 & 8\\\\\n",
        "4 & 8 & 12 & 16\\\\\n",
        "12 & 10 & 5 & 9\n",
        "\\end{bmatrix}$"
      ]
    },
    {
      "cell_type": "markdown",
      "metadata": {
        "id": "tuU7GZ6ATvl1"
      },
      "source": [
        "#Ejercicio 3\n",
        "\n",
        "\n",
        "Suponga que se desea encontrar la matriz de covarianza para tres variables aleatorias $X_{1}$,$X_{2}$ y $X_{3}$, para las cuales se han recabado los siguientes arreglos de muestras para N=4 experimentos, respectivamente: \\begin{array}{c}\n",
        "h_{1}=\\begin{bmatrix}2 & 4 & 6 & 8\\end{bmatrix}\\\\\n",
        "h_{2}=\\begin{bmatrix}4 & 8 & 12 & 16\\end{bmatrix}\\\\\n",
        "h_{3}=\\begin{bmatrix}12 & 10 & 5 & 9\\end{bmatrix}\n",
        "\\end{array}\n",
        "\n",
        "En términos de muestras se tienen 4 muestras\n",
        "\n",
        "$U=\\left\\{ \\vec{u}_{1},\\vec{u}_{2},\\vec{u}_{3},\\vec{u}_{4}\\right\\} =\\begin{bmatrix}| & | & | & |\\\\\n",
        "\\vec{u}_{1} & \\vec{u}_{2} & \\vec{u}_{3} & \\vec{u}_{4}\\\\\n",
        "| & | & | & |\n",
        "\\end{bmatrix}=\\begin{bmatrix}2 & 4 & 6 & 8\\\\\n",
        "4 & 8 & 12 & 16\\\\\n",
        "12 & 10 & 5 & 9\n",
        "\\end{bmatrix}$\n",
        "\n",
        "con $u_{i}\\in\\mathbb{R}^{3}$, donde cada dimensión es una variable aleatoria, y $U\\in\\mathbb{R}^{3\\times4}$. "
      ]
    },
    {
      "cell_type": "code",
      "metadata": {
        "colab": {
          "base_uri": "https://localhost:8080/"
        },
        "id": "8x8-LhA_USef",
        "outputId": "ab79a7b3-07ec-4ff2-b06b-58d398684843"
      },
      "source": [
        "import torch\n",
        "import numpy as np\n",
        "\n",
        "\n",
        "h1 = torch.tensor([2.0,4,6,8])#Variable del problema/enunciado\n",
        "h2 = torch.tensor([4.0,8,12,16])#Variable del problema/enunciado\n",
        "h3 = torch.tensor([12.0,10,5,9])#Variable del problema/enunciado\n",
        "\n",
        "K = torch.stack([h1,h2,h3],dim=0)#Creacion de la matriz K compuesta por h1, h2, h3\n",
        "print(\"K\",K)\n",
        "\n",
        "def covMatrix(U):\n",
        "  observationsQty = U.size(1)#calcular la cantidad de observaciones por cada variable/dimension\n",
        "  Means = torch.mean(U,1,True)#calcular la media para cada variable (fila) de la matriz U\n",
        "  difference = U-Means#Calcular la diferencia entre las observaciones de cada variable y su media\n",
        "  COVmatrixresult = ((1)/(observationsQty-1))*difference.mm(difference.transpose(0,1))# calculo de la matriz de covarianza\n",
        "  return COVmatrixresult#retornar el resultado de la matriz de covarianza\n",
        "\n",
        "\n",
        "\n",
        "print(\"Covariance matrix for input matrix\",covMatrix(K))#comprobar el funcionamiento de la matriz de covarianzar\n",
        "  \n"
      ],
      "execution_count": 4,
      "outputs": [
        {
          "output_type": "stream",
          "text": [
            "K tensor([[ 2.,  4.,  6.,  8.],\n",
            "        [ 4.,  8., 12., 16.],\n",
            "        [12., 10.,  5.,  9.]])\n",
            "Covariance matrix for input matrix tensor([[ 6.6667, 13.3333, -4.6667],\n",
            "        [13.3333, 26.6667, -9.3333],\n",
            "        [-4.6667, -9.3333,  8.6667]])\n"
          ],
          "name": "stdout"
        }
      ]
    }
  ]
}