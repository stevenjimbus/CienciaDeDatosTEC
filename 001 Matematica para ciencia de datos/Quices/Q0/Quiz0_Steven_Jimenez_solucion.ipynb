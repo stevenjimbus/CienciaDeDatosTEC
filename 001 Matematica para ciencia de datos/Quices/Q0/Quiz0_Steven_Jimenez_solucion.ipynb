{
  "nbformat": 4,
  "nbformat_minor": 0,
  "metadata": {
    "colab": {
      "name": "Quiz0 - Steven Jimenez solucion.ipynb",
      "provenance": [],
      "collapsed_sections": []
    },
    "kernelspec": {
      "name": "python3",
      "display_name": "Python 3"
    },
    "language_info": {
      "name": "python"
    }
  },
  "cells": [
    {
      "cell_type": "markdown",
      "metadata": {
        "id": "ygEgcfgmbAs_"
      },
      "source": [
        "Quiz 0 - Ejercicio 1 \n",
        "\n",
        "L{u(t)} = max(0,u(t))"
      ]
    },
    {
      "cell_type": "code",
      "metadata": {
        "id": "G3rf1_yOXs0j"
      },
      "source": [
        "import torch\n",
        "import random\n",
        "\n",
        "def checkLinearityQuiz0A(operator):\n",
        "  step = 1 # distancia entre cada muestra de x\n",
        "  x = torch.arange(-2.0, 2.0+step, step) # tensor desde -2 a 2, con una distancia entre cada muestra igual a step   \n",
        "  #samplescalars\n",
        "  alpha = torch.tensor(-1.78) # asignar valor a variable alpha\n",
        "  beta = torch.tensor(-2) # asignar valor a variable beta\n",
        "  print(\"Alpha:\",alpha)\n",
        "  print(\"Beta:\",beta)\n",
        "  #sample functions\n",
        "  f1 = lambda x: x + 2 # funcion de ejemplo de variable x\n",
        "  f2 = lambda x: x * x # funcion de ejemplo de variable x\n",
        "\n",
        "  print(\"Funcion entrada f1(x)\",f1(x)) # imprimir valor de f1 evaluado en tensor x\n",
        "  print(\"Funcion entrada f2(x)\",f2(x)) # imprimir valor de f1 evaluado en tensor x\n",
        "\n",
        "\n",
        "  #compute left and right side of the equation \n",
        "  #left : operator(alpha * f1(x) + beta * f2(x))\n",
        "  #right: alpha * operator(f1(x)) + beta * operator(f2(x)) \n",
        "  right = alpha * operator(f1(x)) + beta * operator(f2(x)) # sección de comprobación de la ecuación de linealidad\n",
        "  left = operator(alpha * f1(x) + beta * f2(x)) # sección de comprobación de la ecuación de linealidad\n",
        "\n",
        "  print(\"*******************************************************************\")\n",
        "  print(\"Evaluación de ecuacion de linealidad operator(alpha * f1(x) + beta * f2(x) ) \")\n",
        "  #print(\"alpha * f1(x) + beta * f2(x) =\",alpha * f1(x) + beta * f2(x)) #imprimir valores para depuración del código \n",
        "  #print(\"operator(alpha * f1(x) + beta * f2(x) = )\",operator(alpha * f1(x) + beta * f2(x)))#imprimir valores para depuración del código \n",
        "  print(\"--->Left\",left) # imprimir sección de comprobación de la ecuación de linealidad\n",
        "  print(\"*******************************************************************\")\n",
        "  print(\"Evaluación de ecuacion de linealidad alpha * operator(f1(x)) + beta * operator(f2(x)) \")\n",
        "  #print(\"operator(f1(x)) = \", operator(f1(x)))#imprimir valores para depuración del código \n",
        "  #print(\"alpha * operator(f1(x)) = \", alpha * operator(f1(x)))#imprimir valores para depuración del código \n",
        "  #print(\"operator(f2(x)) = \",operator(f2(x)))#imprimir valores para depuración del código \n",
        "  #print(\"beta * operator(f2(x)) = \",beta * operator(f2(x)))#imprimir valores para depuración del código \n",
        "  print(\"--->Right\", right)  # imprimir sección de comprobación de la ecuación de linealidad \n",
        "  print(\"*******************************************************************\")\n",
        "  \n",
        "  #left : operator(alpha * f1(x) + beta * f2(x) )\n",
        "  #right: alpha * operator(f1(x)) + beta * operator(f2(x))\n",
        "  difference = torch.abs(right - left); # calculo de las diferencias entre los dos lados de la ecuación de linealidad\n",
        "  print(\"Difference\",difference) \n",
        "  \n",
        "  sumDifference = difference.sum()# suma de las diferencias entre los dos lados de la ecuación de linealidad\n",
        "  print(\"Sumdifference\",sumDifference)\n",
        "  #Is linear?\n",
        "  return (sumDifference < 0.1)# si la suma de diferencia = 0 (aproximadamente), entonces la función es un sistema lineal\n"
      ],
      "execution_count": 4,
      "outputs": []
    },
    {
      "cell_type": "code",
      "metadata": {
        "colab": {
          "base_uri": "https://localhost:8080/"
        },
        "id": "V8_ZJqXIbNjT",
        "outputId": "9916fdc6-03b0-4de1-b242-4947b0abe800"
      },
      "source": [
        "def quiz0A(x):#definicion de la funcion y = max(0,x) de manera programada\n",
        "  \"\"\"\n",
        "  Linearity problem A\n",
        "  param x: input array\n",
        "  return y = max(0,x)\n",
        "  torch.maximum()\n",
        "  \"\"\"\n",
        "  y = torch.maximum(torch.tensor([0]),x)#Se evalua cada elemento del tensor de entrada sobre la función y = max(0,x), element-wise\n",
        "  return y;\n",
        "\n",
        "print(\"Problema linealidad quiz0A\", checkLinearityQuiz0A(quiz0A))"
      ],
      "execution_count": 5,
      "outputs": [
        {
          "output_type": "stream",
          "text": [
            "Alpha: tensor(-1.7800)\n",
            "Beta: tensor(-2)\n",
            "Funcion entrada f1(x) tensor([0., 1., 2., 3., 4.])\n",
            "Funcion entrada f2(x) tensor([4., 1., 0., 1., 4.])\n",
            "*******************************************************************\n",
            "Evaluación de ecuacion de linealidad operator(alpha * f1(x) + beta * f2(x) ) \n",
            "--->Left tensor([0., 0., 0., 0., 0.])\n",
            "*******************************************************************\n",
            "Evaluación de ecuacion de linealidad alpha * operator(f1(x)) + beta * operator(f2(x)) \n",
            "--->Right tensor([ -8.0000,  -3.7800,  -3.5600,  -7.3400, -15.1200])\n",
            "*******************************************************************\n",
            "Difference tensor([ 8.0000,  3.7800,  3.5600,  7.3400, 15.1200])\n",
            "Sumdifference tensor(37.8000)\n",
            "Problema linealidad quiz0A tensor(False)\n"
          ],
          "name": "stdout"
        }
      ]
    },
    {
      "cell_type": "markdown",
      "metadata": {
        "id": "cQ1HN3_lLqJU"
      },
      "source": [
        "Quiz 0 - Ejercicio 2 \n",
        "\n",
        "L{ u(t)} =ln(1+e^{u(t))"
      ]
    },
    {
      "cell_type": "code",
      "metadata": {
        "id": "aqshZ0PiLrQ2"
      },
      "source": [
        "\n",
        "def checkLinearityQuiz0B(operator):\n",
        "  step = 1 # distancia entre cada muestra de x\n",
        "  x = torch.arange(-2.0, 2.0+step, step) # tensor desde -2 a 2, con una distancia entre cada muestra igual a step \n",
        "\n",
        "  \n",
        "  #samplescalars\n",
        "  alpha = torch.tensor(-1.78) # asignar valor a variable alpha\n",
        "  beta = torch.tensor(-2) # asignar valor a variable beta\n",
        "  print(\"Alpha:\",alpha)\n",
        "  print(\"Beta:\",beta)\n",
        "  #sample functions\n",
        "  f1 = lambda x: x + 2 # funcion de ejemplo de variable x\n",
        "  f2 = lambda x: x * x # funcion de ejemplo de variable x\n",
        "\n",
        "  print(\"Funcion entrada f1(x)\",f1(x)) # imprimir valor de f1 evaluado en tensor x\n",
        "  print(\"Funcion entrada f2(x)\",f2(x)) # imprimir valor de f1 evaluado en tensor x\n",
        "\n",
        "\n",
        "  #compute left and right side of the equation \n",
        "  #left : operator(alpha * f1(x) + beta * f2(x))\n",
        "  #right: alpha * operator(f1(x)) + beta * operator(f2(x)) \n",
        "  right = alpha * operator(f1(x)) + beta * operator(f2(x)) # sección de comprobación de la ecuación de linealidad\n",
        "  left = operator(alpha * f1(x) + beta * f2(x)) # sección de comprobación de la ecuación de linealidad\n",
        "\n",
        "  print(\"*******************************************************************\")\n",
        "  print(\"Evaluación de ecuacion de linealidad operator(alpha * f1(x) + beta * f2(x) ) \")\n",
        "  #print(\"alpha * f1(x) + beta * f2(x) =\",alpha * f1(x) + beta * f2(x)) #imprimir valores para depuración del código \n",
        "  #print(\"operator(alpha * f1(x) + beta * f2(x) = )\",operator(alpha * f1(x) + beta * f2(x)))#imprimir valores para depuración del código \n",
        "  print(\"--->Left\",left) # imprimir sección de comprobación de la ecuación de linealidad\n",
        "  print(\"*******************************************************************\")\n",
        "  print(\"Evaluación de ecuacion de linealidad alpha * operator(f1(x)) + beta * operator(f2(x)) \")\n",
        "  #print(\"operator(f1(x)) = \", operator(f1(x)))#imprimir valores para depuración del código \n",
        "  #print(\"alpha * operator(f1(x)) = \", alpha * operator(f1(x)))#imprimir valores para depuración del código \n",
        "  #print(\"operator(f2(x)) = \",operator(f2(x)))#imprimir valores para depuración del código \n",
        "  #print(\"beta * operator(f2(x)) = \",beta * operator(f2(x)))#imprimir valores para depuración del código \n",
        "  print(\"--->Right\", right)  # imprimir sección de comprobación de la ecuación de linealidad \n",
        "  print(\"*******************************************************************\")\n",
        "  \n",
        "  #left : operator(alpha * f1(x) + beta * f2(x) )\n",
        "  #right: alpha * operator(f1(x)) + beta * operator(f2(x))\n",
        "  difference = torch.abs(right - left); # calculo de las diferencias entre los dos lados de la ecuación de linealidad\n",
        "  print(\"Difference\",difference) \n",
        "  \n",
        "  sumDifference = difference.sum()# suma de las diferencias entre los dos lados de la ecuación de linealidad\n",
        "  print(\"Sumdifference\",sumDifference)\n",
        "  #Is linear?\n",
        "  return (sumDifference < 0.1)# si la suma de diferencia = 0 (aproximadamente), entonces la función es un sistema lineal"
      ],
      "execution_count": 6,
      "outputs": []
    },
    {
      "cell_type": "code",
      "metadata": {
        "colab": {
          "base_uri": "https://localhost:8080/"
        },
        "id": "XKDSPJ_cnwwq",
        "outputId": "e80398e7-69e3-44f0-8f61-50ee3ff88380"
      },
      "source": [
        "import math\n",
        "def quiz0B(x):#definicion de la funcion y = ln(1+e^(u(t))) de manera programada\n",
        "  \"\"\"\n",
        "  Linearity problem B\n",
        "  param x: input array\n",
        "  return y = ln(1+e^(u(t)))\n",
        "  \"\"\"\n",
        "  y = torch.log(1+torch.pow(math.e,x)) #Se evalua cada elemento del tensor de entrada sobre la función y = ln(1+e^(u(t)))\n",
        "  return y;\n",
        "\n",
        "print(\"Problema linealidad quiz0B\", checkLinearityQuiz0B(quiz0B))"
      ],
      "execution_count": 7,
      "outputs": [
        {
          "output_type": "stream",
          "text": [
            "Alpha: tensor(-1.7800)\n",
            "Beta: tensor(-2)\n",
            "Funcion entrada f1(x) tensor([0., 1., 2., 3., 4.])\n",
            "Funcion entrada f2(x) tensor([4., 1., 0., 1., 4.])\n",
            "*******************************************************************\n",
            "Evaluación de ecuacion de linealidad operator(alpha * f1(x) + beta * f2(x) ) \n",
            "--->Left tensor([3.3540e-04, 2.2566e-02, 2.8042e-02, 6.4888e-04, 2.3842e-07])\n",
            "*******************************************************************\n",
            "Evaluación de ecuacion de linealidad alpha * operator(f1(x)) + beta * operator(f2(x)) \n",
            "--->Right tensor([ -9.2701,  -4.9641,  -5.1722,  -8.0530, -15.1886])\n",
            "*******************************************************************\n",
            "Difference tensor([ 9.2704,  4.9867,  5.2003,  8.0537, 15.1886])\n",
            "Sumdifference tensor(42.6997)\n",
            "Problema linealidad quiz0B tensor(False)\n"
          ],
          "name": "stdout"
        }
      ]
    }
  ]
}